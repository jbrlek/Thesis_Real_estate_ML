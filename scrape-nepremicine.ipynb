{
 "cells": [
  {
   "cell_type": "code",
   "execution_count": 34,
   "metadata": {},
   "outputs": [],
   "source": [
    "from selenium import webdriver\n",
    "from selenium.webdriver.common.by import By\n",
    "from selenium.webdriver.common.keys import Keys\n",
    "import time\n",
    "from selenium.common.exceptions import NoSuchElementException\n",
    "from selenium.webdriver.common.action_chains import ActionChains\n",
    "from selenium.webdriver.support.ui import WebDriverWait\n",
    "import os\n",
    "import pandas as pd\n",
    "import numpy as np\n",
    "from random import randint\n",
    "\n"
   ]
  },
  {
   "cell_type": "code",
   "execution_count": 13,
   "metadata": {},
   "outputs": [],
   "source": [
    "PATH = \"C:\\Program Files (x86)\\chromedriver.exe\"\n",
    "\n",
    "data = pd.DataFrame()\n",
    "#using chrome browser\n"
   ]
  },
  {
   "cell_type": "code",
   "execution_count": 23,
   "metadata": {},
   "outputs": [
    {
     "name": "stderr",
     "output_type": "stream",
     "text": [
      "C:\\Users\\Jernej\\AppData\\Local\\Temp\\ipykernel_20672\\1920542340.py:1: DeprecationWarning: executable_path has been deprecated, please pass in a Service object\n",
      "  driver = webdriver.Chrome(PATH)\n"
     ]
    }
   ],
   "source": [
    "driver = webdriver.Chrome(PATH)\n",
    "driver.get(\"http://google.com\")\n",
    "#print(driver.title)\n"
   ]
  },
  {
   "cell_type": "code",
   "execution_count": 63,
   "metadata": {},
   "outputs": [],
   "source": [
    "# type nepremicnine.net in search bar\n",
    "driver.get(\"http://google.com\")\n",
    "search_box = driver.find_element(By.NAME,\"q\")\n",
    "search_box.send_keys(\"nepremicnine.net\")\n",
    "search_box.send_keys(Keys.RETURN)\n",
    "time.sleep(random_timer())\n",
    "#click on first link\n",
    "driver.find_element(By.CLASS_NAME,'MjjYud').find_element(By.TAG_NAME,'a').click()\n",
    "time.sleep(random_timer())\n"
   ]
  },
  {
   "cell_type": "code",
   "execution_count": 62,
   "metadata": {},
   "outputs": [],
   "source": [
    "# make a random timer function\n",
    "def random_timer():\n",
    "    t=1+randint(100,1000)/1000 * 2\n",
    "    return t"
   ]
  },
  {
   "cell_type": "code",
   "execution_count": null,
   "metadata": {},
   "outputs": [],
   "source": [
    "# click on Prikaži to show listings\n",
    "driver.find_element(By.CLASS_NAME,\"ibl\").find_element(By.TAG_NAME,'a').click()\n",
    "time.sleep(random_timer())\n"
   ]
  },
  {
   "cell_type": "code",
   "execution_count": 81,
   "metadata": {},
   "outputs": [],
   "source": [
    "# remove category filter for Regija\n",
    "driver.find_element(By.CLASS_NAME,\"params\").find_element(By.CLASS_NAME,'ff_regija').find_element(By.TAG_NAME,'a').click()\n",
    "time.sleep(random_timer())\n"
   ]
  },
  {
   "cell_type": "code",
   "execution_count": 82,
   "metadata": {},
   "outputs": [],
   "source": [
    "driver.find_element(By.CLASS_NAME,\"dropdownPanel\").find_element(By.LINK_TEXT,\"Slovenija\").click()\n",
    "time.sleep(random_timer())"
   ]
  },
  {
   "cell_type": "code",
   "execution_count": 83,
   "metadata": {},
   "outputs": [],
   "source": [
    "# remove category filter for Regija\n",
    "driver.find_element(By.CLASS_NAME,\"params\").find_element(By.TAG_NAME,'a').click()\n",
    "time.sleep(random_timer())"
   ]
  },
  {
   "cell_type": "code",
   "execution_count": null,
   "metadata": {},
   "outputs": [],
   "source": []
  }
 ],
 "metadata": {
  "kernelspec": {
   "display_name": "Python 3.10.5 64-bit",
   "language": "python",
   "name": "python3"
  },
  "language_info": {
   "codemirror_mode": {
    "name": "ipython",
    "version": 3
   },
   "file_extension": ".py",
   "mimetype": "text/x-python",
   "name": "python",
   "nbconvert_exporter": "python",
   "pygments_lexer": "ipython3",
   "version": "3.10.5"
  },
  "orig_nbformat": 4,
  "vscode": {
   "interpreter": {
    "hash": "369f2c481f4da34e4445cda3fffd2e751bd1c4d706f27375911949ba6bb62e1c"
   }
  }
 },
 "nbformat": 4,
 "nbformat_minor": 2
}
