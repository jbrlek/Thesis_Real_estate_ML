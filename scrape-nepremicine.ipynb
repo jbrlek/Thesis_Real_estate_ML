{
 "cells": [
  {
   "cell_type": "code",
   "execution_count": 1,
   "metadata": {},
   "outputs": [],
   "source": [
    "from selenium import webdriver\n",
    "from selenium.webdriver.common.by import By\n",
    "from selenium.webdriver.common.keys import Keys\n",
    "import time\n",
    "from selenium.common.exceptions import NoSuchElementException\n",
    "from selenium.webdriver.common.action_chains import ActionChains\n",
    "from selenium.webdriver.support.ui import WebDriverWait\n",
    "import os\n",
    "import pandas as pd\n",
    "import numpy as np\n",
    "from random import randint\n",
    "\n"
   ]
  },
  {
   "cell_type": "code",
   "execution_count": 2,
   "metadata": {},
   "outputs": [],
   "source": [
    "PATH = \"C:\\Program Files (x86)\\chromedriver.exe\"\n",
    "\n",
    "data = pd.DataFrame()\n",
    "#using chrome browser\n"
   ]
  },
  {
   "cell_type": "code",
   "execution_count": 5,
   "metadata": {},
   "outputs": [],
   "source": [
    "# make a random timer function\n",
    "def random_timer():\n",
    "    t=1+randint(100,1000)/1000 * 2\n",
    "    return t"
   ]
  },
  {
   "cell_type": "code",
   "execution_count": 36,
   "metadata": {},
   "outputs": [
    {
     "name": "stderr",
     "output_type": "stream",
     "text": [
      "C:\\Users\\Jernej\\AppData\\Local\\Temp\\ipykernel_18384\\1920542340.py:1: DeprecationWarning: executable_path has been deprecated, please pass in a Service object\n",
      "  driver = webdriver.Chrome(PATH)\n"
     ]
    }
   ],
   "source": [
    "driver = webdriver.Chrome(PATH)\n",
    "driver.get(\"http://google.com\")\n",
    "#print(driver.title)\n"
   ]
  },
  {
   "cell_type": "code",
   "execution_count": 75,
   "metadata": {},
   "outputs": [],
   "source": [
    "# type nepremicnine.net in search bar\n",
    "driver.get(\"http://google.com\")\n",
    "search_box = driver.find_element(By.NAME,\"q\")\n",
    "search_box.send_keys(\"nepremicnine.net\")\n",
    "search_box.send_keys(Keys.RETURN)\n",
    "time.sleep(random_timer())\n",
    "#click on first link\n",
    "driver.find_element(By.CLASS_NAME,'MjjYud').find_element(By.TAG_NAME,'a').click()\n",
    "time.sleep(random_timer())\n"
   ]
  },
  {
   "cell_type": "code",
   "execution_count": null,
   "metadata": {},
   "outputs": [],
   "source": []
  },
  {
   "cell_type": "code",
   "execution_count": 76,
   "metadata": {},
   "outputs": [],
   "source": [
    "# click on Prikaži to show listings\n",
    "driver.find_element(By.CLASS_NAME,\"ibl\").find_element(By.TAG_NAME,'a').click()\n",
    "time.sleep(random_timer())\n"
   ]
  },
  {
   "cell_type": "code",
   "execution_count": 77,
   "metadata": {},
   "outputs": [],
   "source": [
    "# remove category filter for Regija\n",
    "driver.find_element(By.CLASS_NAME,\"params\").find_element(By.CLASS_NAME,'ff_regija').find_element(By.TAG_NAME,'a').click()\n",
    "time.sleep(random_timer())\n"
   ]
  },
  {
   "cell_type": "code",
   "execution_count": 79,
   "metadata": {},
   "outputs": [
    {
     "name": "stdout",
     "output_type": "stream",
     "text": [
      "https://www.nepremicnine.net/oglasi-prodaja/stanovanje/\n",
      "https://www.nepremicnine.net/oglasi-prodaja/slovenija/stanovanje/\n",
      "https://www.nepremicnine.net/oglasi-prodaja/hrvaska/stanovanje/\n",
      "https://www.nepremicnine.net/oglasi-prodaja/ostale-drzave/stanovanje/\n"
     ]
    }
   ],
   "source": [
    "# add filter for Slovenija - for this to work, zou have to hover over the country filter and click on Slovenija\n",
    "\n",
    "list=[]\n",
    "list = driver.find_element(By.CLASS_NAME,\"dropdownWrapper\").find_elements(By.TAG_NAME,'a')\n",
    "list[1].click()\n",
    "time.sleep(random_timer())\n"
   ]
  },
  {
   "cell_type": "code",
   "execution_count": 80,
   "metadata": {},
   "outputs": [],
   "source": [
    "# remove category filter for Stanovanje\n",
    "list = driver.find_element(By.CLASS_NAME,\"params\").find_elements(By.TAG_NAME,'a')\n",
    "list[1].click()\n",
    "time.sleep(random_timer())"
   ]
  },
  {
   "cell_type": "code",
   "execution_count": 84,
   "metadata": {},
   "outputs": [
    {
     "data": {
      "text/plain": [
       "359"
      ]
     },
     "execution_count": 84,
     "metadata": {},
     "output_type": "execute_result"
    }
   ],
   "source": [
    "# get total number of pages\n",
    "totalPages = driver.find_element(By.CLASS_NAME,\"last\").get_attribute(\"href\")\n",
    "totalPages = totalPages.split(\"/\")[-2]\n",
    "totalPages = int(totalPages)\n",
    "totalPages"
   ]
  },
  {
   "cell_type": "code",
   "execution_count": 96,
   "metadata": {},
   "outputs": [],
   "source": [
    "# click to go to the next page\n",
    "driver.execute_script(\"window.scrollTo(0, document.body.scrollHeight);\")\n"
   ]
  },
  {
   "cell_type": "code",
   "execution_count": 101,
   "metadata": {},
   "outputs": [],
   "source": [
    "# loop through all pages\n",
    "for i in range(1,10):\n",
    "  headbar= driver.find_element(By.CLASS_NAME,\"headbar\")\n",
    "  ActionChains(driver).move_to_element(headbar).perform()\n",
    "  next = driver.find_element(By.CLASS_NAME,\"headbar\").find_element(By.CLASS_NAME,\"paging_next\").find_element(By.TAG_NAME,'a')\n",
    "  time.sleep(random_timer())\n",
    "  next.click()"
   ]
  },
  {
   "cell_type": "code",
   "execution_count": null,
   "metadata": {},
   "outputs": [],
   "source": []
  }
 ],
 "metadata": {
  "kernelspec": {
   "display_name": "Python 3.10.5 64-bit",
   "language": "python",
   "name": "python3"
  },
  "language_info": {
   "codemirror_mode": {
    "name": "ipython",
    "version": 3
   },
   "file_extension": ".py",
   "mimetype": "text/x-python",
   "name": "python",
   "nbconvert_exporter": "python",
   "pygments_lexer": "ipython3",
   "version": "3.10.5"
  },
  "orig_nbformat": 4,
  "vscode": {
   "interpreter": {
    "hash": "369f2c481f4da34e4445cda3fffd2e751bd1c4d706f27375911949ba6bb62e1c"
   }
  }
 },
 "nbformat": 4,
 "nbformat_minor": 2
}
